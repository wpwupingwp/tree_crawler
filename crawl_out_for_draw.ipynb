{
 "cells": [
  {
   "cell_type": "code",
   "execution_count": 120,
   "id": "b02f3592-79f3-4106-9e35-61e299f8dac2",
   "metadata": {
    "ExecuteTime": {
     "end_time": "2024-02-23T13:51:41.611931400Z",
     "start_time": "2024-02-23T13:51:41.591711600Z"
    }
   },
   "outputs": [],
   "source": [
    "import csv\n",
    "import json\n",
    "\n",
    "\n",
    "def tid(tree_id: int) -> str:\n",
    "        \"\"\"\n",
    "        Generate TreeID from tree_id in database\n",
    "        Since postgresql serial is 4*8 bit, if id is too big,\n",
    "        alter table and return raw number.\n",
    "        TID format: 'T00A100000'\n",
    "            first letter, 'T'\n",
    "            2-4, digit or capital letter, 0-9 and A-Z\n",
    "            5-10, digit\n",
    "        Args:\n",
    "            tree_id: tree_id, postgresql serial number\n",
    "\n",
    "        Returns:\n",
    "            tid: str\n",
    "        \"\"\"\n",
    "        max_n = min(36 ** 3 * 100_000, 2 ** (8 * 4 - 1))\n",
    "        prefix = 'T'\n",
    "        n = 1_000_00\n",
    "        if tree_id >= max_n:\n",
    "            return 'T' + str(tree_id)\n",
    "        # 0-9 and A-Z\n",
    "        base = 26 + 10\n",
    "\n",
    "        a, b = divmod(tree_id, n)\n",
    "        letters = ''\n",
    "        while a > 0:\n",
    "            a, digit = divmod(a, base)\n",
    "            if digit < 10:\n",
    "                letters = str(digit) + letters\n",
    "            else:\n",
    "                letters = chr(ord('A') + (digit - 10)) + letters\n",
    "        return prefix + f'{letters:>03}' + f'{b:05d}'"
   ]
  },
  {
   "cell_type": "code",
   "execution_count": 121,
   "id": "c6146e2a-39b4-4842-bda1-bef5914cc8e0",
   "metadata": {
    "ExecuteTime": {
     "end_time": "2024-02-23T13:51:41.640611500Z",
     "start_time": "2024-02-23T13:51:41.616358500Z"
    }
   },
   "outputs": [],
   "source": [
    "# use sql to output table from treebase"
   ]
  },
  {
   "cell_type": "code",
   "execution_count": 122,
   "id": "df4a3982-a41d-484f-bd47-038e24e05cc8",
   "metadata": {
    "ExecuteTime": {
     "end_time": "2024-02-23T13:51:41.669601400Z",
     "start_time": "2024-02-23T13:51:41.644057100Z"
    }
   },
   "outputs": [
    {
     "data": {
      "text/plain": "\"psql\\ncopy (\\nselect to_json(t) from (\\n\\tselect ncbi_names.name_txt as root, trees.study_id, study.doi,\\n\\ttreefile.treefile_id, trees.tree_id, trees.tree_label, trees.tree_title, trees.tree_type, trees.tree_kind, \\n\\ttrees.root as root_id, trees.tree_quality, trees.upload_date, trees.tree_type_new\\n\\tfrom trees inner join ncbi_names on trees.root=ncbi_names.tax_id \\n\\tinner join study on trees.study_id=study.study_id\\n\\tinner join treefile on trees.tree_id = treefile.tree_id\\n\\twhere ncbi_names.name_class='scientific name'\\n) as t)\\nto 'r:\\\\test.json';\\n\""
     },
     "execution_count": 122,
     "metadata": {},
     "output_type": "execute_result"
    }
   ],
   "source": [
    "\"\"\"psql\n",
    "copy (\n",
    "select to_json(t) from (\n",
    "\tselect ncbi_names.name_txt as root, trees.study_id, study.doi,\n",
    "\ttreefile.treefile_id, trees.tree_id, trees.tree_label, trees.tree_title, trees.tree_type, trees.tree_kind, \n",
    "\ttrees.root as root_id, trees.tree_quality, trees.upload_date, trees.tree_type_new\n",
    "\tfrom trees inner join ncbi_names on trees.root=ncbi_names.tax_id \n",
    "\tinner join study on trees.study_id=study.study_id\n",
    "\tinner join treefile on trees.tree_id = treefile.tree_id\n",
    "\twhere ncbi_names.name_class='scientific name'\n",
    ") as t)\n",
    "to 'r:\\\\test.json';\n",
    "\"\"\""
   ]
  },
  {
   "cell_type": "code",
   "execution_count": 123,
   "id": "e4a567ac-9818-4c20-83de-be471ae532ea",
   "metadata": {
    "ExecuteTime": {
     "end_time": "2024-02-23T13:51:44.393448300Z",
     "start_time": "2024-02-23T13:51:41.776853700Z"
    }
   },
   "outputs": [
    {
     "name": "stdout",
     "output_type": "stream",
     "text": [
      "[{'root': 'Gymnopilus pampeanus', 'study_id': 1960, 'doi': None, 'treefile_id': 5709, 'tree_id': 2928, 'tree_label': 'Fig. 2', 'tree_title': 'Tribe Erysipheae', 'tree_type': 'Single', 'tree_kind': 'Species Tree', 'root_id': 205671, 'tree_quality': 'Unrated', 'upload_date': None, 'tree_type_new': 'treebase', 'tree_file': 'T00002928.nwk'}, {'root': 'Aphodius sp. BLACKmx', 'study_id': 1966, 'doi': None, 'treefile_id': 5720, 'tree_id': 2942, 'tree_label': 'Supplementary 04', 'tree_title': 'Phialocephala, pPF-076', 'tree_type': 'Single', 'tree_kind': 'Species Tree', 'root_id': 207097, 'tree_quality': 'Unrated', 'upload_date': None, 'tree_type_new': 'treebase', 'tree_file': 'T00002942.nwk'}]\n"
     ]
    }
   ],
   "source": [
    "trees = list()\n",
    "with open('r:\\\\test.json', 'r') as _:\n",
    "    for line in _:\n",
    "        # handle escape character from psql\n",
    "        line2 = line.replace(r'\\\\', '\\\\')\n",
    "        x = json.loads(line2)\n",
    "        x['tree_file'] = tid(x['tree_id']) + '.nwk'\n",
    "        trees.append(x)\n",
    "print(trees[214:216])\n",
    "json.dump(trees, open('r:\\\\tree.json', 'w'), indent=True)"
   ]
  },
  {
   "cell_type": "code",
   "execution_count": 124,
   "id": "550a84c3-70fe-4d2e-80bc-151fcf835d0b",
   "metadata": {
    "ExecuteTime": {
     "end_time": "2024-02-23T13:51:44.408672500Z",
     "start_time": "2024-02-23T13:51:44.393448300Z"
    }
   },
   "outputs": [
    {
     "data": {
      "text/plain": "\"psql\\ncopy (\\n\\tselect to_json(t) from \\n\\t  (select tree_id,newick from treefile) as t)\\nto 'r:\\\\treefile.json';\\n\""
     },
     "execution_count": 124,
     "metadata": {},
     "output_type": "execute_result"
    }
   ],
   "source": [
    "\"\"\"psql\n",
    "copy (\n",
    "\tselect to_json(t) from \n",
    "\t  (select tree_id,newick from treefile) as t)\n",
    "to 'r:\\\\treefile.json';\n",
    "\"\"\""
   ]
  },
  {
   "cell_type": "code",
   "execution_count": 125,
   "id": "3b5b5525-5a21-4b98-9cea-9c9334471e65",
   "metadata": {
    "ExecuteTime": {
     "end_time": "2024-02-23T13:52:01.305613800Z",
     "start_time": "2024-02-23T13:51:44.398662100Z"
    }
   },
   "outputs": [],
   "source": [
    "treefile = list()\n",
    "with open('r://treefile.json', 'r') as _:\n",
    "    for line in _:\n",
    "        line2 = line.replace(r'\\\\', '\\\\')\n",
    "        t = json.loads(line2)\n",
    "        filename = tid(t['tree_id']) + '.nwk'\n",
    "        with open(f'r://out/{filename}', 'w') as out_:\n",
    "            out_.write(t['newick'])"
   ]
  },
  {
   "cell_type": "code",
   "execution_count": 126,
   "id": "fe07fd1b-99b9-482e-89ba-b30fc1b03692",
   "metadata": {
    "ExecuteTime": {
     "end_time": "2024-02-23T13:52:01.323211Z",
     "start_time": "2024-02-23T13:52:01.305613800Z"
    }
   },
   "outputs": [
    {
     "data": {
      "text/plain": "\"psql\\ncopy (\\n\\tselect to_json(t) from (\\nselect array_agg(treefile.tree_id) as tree_files, study.* from study\\nright join trees on study.study_id = trees.study_id\\ninner join treefile on trees.tree_id = treefile.tree_id\\ngroup by study.study_id\\norder by study.study_id) as t)\\nto 'r:\\\\paper.raw';\\n\""
     },
     "execution_count": 126,
     "metadata": {},
     "output_type": "execute_result"
    }
   ],
   "source": [
    "\"\"\"psql\n",
    "copy (\n",
    "\tselect to_json(t) from (\n",
    "select array_agg(treefile.tree_id) as tree_files, study.* from study\n",
    "right join trees on study.study_id = trees.study_id\n",
    "inner join treefile on trees.tree_id = treefile.tree_id\n",
    "group by study.study_id\n",
    "order by study.study_id) as t)\n",
    "to 'r:\\\\paper.raw';\n",
    "\"\"\""
   ]
  },
  {
   "cell_type": "code",
   "execution_count": 127,
   "id": "f721095d-195a-4399-9bc8-d44761c2d004",
   "metadata": {
    "ExecuteTime": {
     "end_time": "2024-02-23T13:52:01.548581500Z",
     "start_time": "2024-02-23T13:52:01.312189300Z"
    }
   },
   "outputs": [],
   "source": [
    "paper = list()\n",
    "with open('r://paper.raw', 'r') as _:\n",
    "    for line in _:\n",
    "        line2 = line.replace(r'\\\\', '\\\\')\n",
    "        t = json.loads(line2)\n",
    "        t['tree_files'] = [tid(tf)+'.nwk' for tf in t['tree_files']]\n",
    "        paper.append(t)\n",
    "        \n",
    "                           \n"
   ]
  },
  {
   "cell_type": "code",
   "execution_count": 128,
   "id": "08521a4d-5057-47c5-b938-94176c82827a",
   "metadata": {
    "ExecuteTime": {
     "end_time": "2024-02-23T13:52:01.565837700Z",
     "start_time": "2024-02-23T13:52:01.549584900Z"
    }
   },
   "outputs": [
    {
     "name": "stdout",
     "output_type": "stream",
     "text": [
      "[{'tree_files': ['T00001585.nwk'], 'study_id': 89, 'pub_type': 'A', 'author': 'Berry, P. E.', 'year': 1989, 'title': 'A systematic revision of Fuchsia sect. Quelusia (Onagraceae).', 'journal': 'Annals of the Missouri Botanical Garden', 's_author': None, 's_title': None, 'place_pub': None, 'publisher': None, 'volume': '76', 'number': None, 'pages': '532-584', 'isbn': None, 'keywords': None, 'abstract': 'Fuchsia sect. Quelusia consists of nine closely related species, eight from southeastern Brazil and one from southern Chile and Argentina. This treatment recognizes F. alpestris and F. glazioviana as separate from F. regia and describes two new species from southern Brazil, F. brevilobis and F. hatschbachii. The section is defined by its shrubby-lianoid habit, opposite-whorled leaves, and distinctive floral pattern associated with hummingbird pollination. It is one of only two entirely polyploid sections in the genus. Unique characters of the section include the large, violet, convolute petals, strongly exserted stamens, and partially connate sepals that are longer than the floral tubes. All nine species occupy cool forest habitats that are remnants of the widespread Tertiary temperate forests of the Southern Hemisphere. With the Old World sect. Skinnera as the sister group of all the American species of Fuchsia, sect. Quelusia represents an early offshoot of the ancestral South American fuchsias, distinct from the tropical Andean and Central American sections in its polyploidy and derived, 3-porate pollen. The nearest relative and sister species of sect. Quelusia is F. lycioides, a specialized xerophyte and the sole member of sect. Kierschlegeria, which occurs in central Chile just north of the range of F. magellanica. The Andean and Brazilian populations of sect. Quelusia probably became isolated in the late Tertiary, when the austral temperate forests were broken up by increasing aridity to the east of the Andes, as these were strongly uplifted. While F. magellanica has not differentiated substantially throughout its range in the southern Andes, sect. Quelusia has radiated extensively in the subtropical mountains of southern Brazil, where five of the eight species are restricted to high, isolated mountain peaks. Fuchsia regia, on the other hand, is widespread at lower altitudes throughout the planalto and coastal mountains of southeastern Brazil; it is differentiated into three mostly allopatric but intergrading series of populations which are treated here as subspecies. Two of these subspecies are newly described, F. regia subsp. reitzii and F. regia subsp. serrae. Fuchsia regia is the only species now found to occur sympatrically with other members of the section, and it forms natural hybrids with at least five different species. The only naturally occurring octoploid populations in the genus occur in F. regia and appear to be recently derived.', 'legacy_id': 'S11x4x95c20c53c01', 'url': None, 'doi': None, 'upload_date': '1995-11-04'}, {'tree_files': ['T00001623.nwk', 'T00001621.nwk', 'T00001622.nwk', 'T00001627.nwk', 'T00001624.nwk', 'T00001619.nwk', 'T00001625.nwk', 'T00001628.nwk', 'T00001618.nwk', 'T00001614.nwk', 'T00001620.nwk', 'T00001611.nwk', 'T00001616.nwk', 'T00001608.nwk', 'T00001609.nwk', 'T00001610.nwk', 'T00001613.nwk', 'T00001615.nwk', 'T00001626.nwk', 'T00001617.nwk', 'T00001612.nwk'], 'study_id': 90, 'pub_type': 'A', 'author': 'Boufford, D. E.; Crisci, Jorge V.; Tobe, H.; Hoch, P. C.', 'year': 1990, 'title': 'A cladistic analysis of Circaea (Onagraceae).', 'journal': 'Cladistics', 's_author': None, 's_title': None, 'place_pub': None, 'publisher': None, 'volume': '6', 'number': None, 'pages': '171-182', 'isbn': None, 'keywords': None, 'abstract': 'Circaea (Onagraceae), a genus of seven species from the northern hemisphere, forms a monophyletic group defined by the following synapomorphies: two stamens (opposite the sepals), fruits indehiscent capsules, hooked hairs on the fruits, and perianth parts reduced to two. A cladistic analysis of the genus was performed using 22 characters from morphology, anatomy and palynology. The seven species and seven additional subspecies were considered the terminal taxa. Polarity of the characters is based on the outgroup comparison method. Eighteen equally parsimonious cladograms were produced, each with 32 steps and a consistency index of 0.75. A successive weighting procedure was applied, resulting in six cladograms with a consistency index of 0.95. All 24 cladograms share the following seven monophyletic groups: (1) all species except C. cordata and C. glabrescens (stipules deciduous); (2) the group of C. mollis, the three subspecies of C. lutetiana and C. erubescens (exserted nectary); (3) C. repens and all six subspecies of C. alpina (single-seeded fruits, stolons terminated by tubers, and viscin threads reduced or absent); (4) the six subspecies of C. alpina (unilocular ovaries with no trace of a second locule and tardily opening perianth); (5) C. alpina subspecies alpina, micrantha, pacifica, and imaicola (flowers opening on ascending to erect pedicels); (6) C. alpina subspecies alpina, micrantha, and pacifica ( translucent leaves); (7\\x7f) C. alpina subspecies alpina and micrantha (glabrous stems) . Results of the cladistic analysis support most of the current systematic classification of the genus, except for the relationships among the three subspecies of C. lutetiana.', 'legacy_id': 'S11x4x95c21c00c08', 'url': None, 'doi': None, 'upload_date': '1995-11-04'}, {'tree_files': ['T00001660.nwk'], 'study_id': 91, 'pub_type': 'A', 'author': 'Carr, B. L.; Crisci, Jorge V.; Hoch, P. C.', 'year': 1990, 'title': 'A cladistic analysis of the genus Gaura (Onagraceae).', 'journal': 'Systematic Botany', 's_author': None, 's_title': None, 'place_pub': None, 'publisher': None, 'volume': '15', 'number': None, 'pages': '454-461', 'isbn': None, 'keywords': None, 'abstract': 'Gaura, a genus of 21 species in North America, forms a monophyletic group within tribe Onagreae. Compared to the outgroup (Calylophus), it is clearly defined by three synapomorphies: indehiscent fruits, four-lobed stigmas, and fruits with fewer than 10 seeds. A cladistic analysis of the genus was performed using 20 characters from floral morphology, fruit morphology, and plant habit and growth characteristics. Polarity of the characters was based on the outgroup comparison method. Two most parsimonious cladograms, with only a single minor topological difference, were generated, with 29 steps and a consistency index of 0.72. A Nelson consensus tree was constructed, which has the same length as the two cladograms, and an identical topology to one of them. The consensus cladogram defines 12 monophyletic groups. This cladogram supports most of the current infrageneric classification of Gaura, except that sects. Xerogaura and Gaura appear to be paraphyletic groups. The placement of G. lindheimeri within sect. Gaura in keeping with the current classification depends on interpreting two habit characters in this species as being secondarily derived.', 'legacy_id': 'S11x4x95c21c11c15', 'url': None, 'doi': None, 'upload_date': '1995-11-04'}]\n"
     ]
    }
   ],
   "source": [
    "print(paper[4:7])"
   ]
  },
  {
   "cell_type": "code",
   "execution_count": 129,
   "id": "a9772f23-8717-4eb5-8718-ce04050932b1",
   "metadata": {
    "ExecuteTime": {
     "end_time": "2024-02-23T13:52:01.887762900Z",
     "start_time": "2024-02-23T13:52:01.553312700Z"
    }
   },
   "outputs": [],
   "source": [
    "with open(f'r://paper.json', 'w') as out_:\n",
    "    json.dump(paper, out_, indent=True)"
   ]
  },
  {
   "cell_type": "code",
   "execution_count": 130,
   "id": "8c350aad-cd8f-4c13-a019-3837c7ad4851",
   "metadata": {
    "ExecuteTime": {
     "end_time": "2024-02-23T13:52:01.910524400Z",
     "start_time": "2024-02-23T13:52:01.888978200Z"
    }
   },
   "outputs": [
    {
     "data": {
      "text/plain": "'\\n1. import to database\\n2. output merged final json (paper.json,tree.json) and newick treefiles\\n3. statistics\\n'"
     },
     "execution_count": 130,
     "metadata": {},
     "output_type": "execute_result"
    }
   ],
   "source": [
    "\"\"\"\n",
    "1. import to database\n",
    "2. output merged final json (paper.json,tree.json) and newick treefiles\n",
    "3. statistics\n",
    "\"\"\"\n"
   ]
  },
  {
   "cell_type": "code",
   "outputs": [
    {
     "name": "stdout",
     "output_type": "stream",
     "text": [
      "{'tree_files': 3, 'study_id': None, 'pub_type': None, 'author': None, 'year': None, 'title': None, 'journal': None, 's_author': None, 's_title': None, 'place_pub': None, 'publisher': None, 'volume': None, 'number': None, 'pages': None, 'isbn': None, 'keywords': None, 'abstract': None, 'legacy_id': None, 'url': None, 'doi': None, 'upload_date': None}\n"
     ]
    }
   ],
   "source": [
    "with open(f'r://paper.json') as _:\n",
    "    data2 = json.load(_)\n",
    "header = data2.pop()\n",
    "header['tree_files'] = len(header['tree_files'])\n",
    "print(header)\n",
    "with open(r'r://for_draw.csv', 'w', newline='') as out:\n",
    "    writer = csv.DictWriter(out, fieldnames=list(header.keys()))\n",
    "    writer.writeheader()\n",
    "    writer.writerow(header)\n",
    "    for record in data2:\n",
    "        record['tree_files'] = len(record['tree_files'])\n",
    "        writer.writerow(record)\n",
    "\n"
   ],
   "metadata": {
    "collapsed": false,
    "ExecuteTime": {
     "end_time": "2024-02-23T13:57:09.918965700Z",
     "start_time": "2024-02-23T13:57:09.623394400Z"
    }
   },
   "id": "d62a44747bfea1fa",
   "execution_count": 133
  },
  {
   "cell_type": "code",
   "outputs": [],
   "source": [],
   "metadata": {
    "collapsed": false
   },
   "id": "8c29fc2a7c74fdf3"
  }
 ],
 "metadata": {
  "kernelspec": {
   "display_name": "Python 3 (ipykernel)",
   "language": "python",
   "name": "python3"
  },
  "language_info": {
   "codemirror_mode": {
    "name": "ipython",
    "version": 3
   },
   "file_extension": ".py",
   "mimetype": "text/x-python",
   "name": "python",
   "nbconvert_exporter": "python",
   "pygments_lexer": "ipython3",
   "version": "3.11.7"
  }
 },
 "nbformat": 4,
 "nbformat_minor": 5
}
