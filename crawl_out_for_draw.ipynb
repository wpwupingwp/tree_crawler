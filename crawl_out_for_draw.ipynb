{
 "cells": [
  {
   "cell_type": "code",
   "execution_count": 3,
   "id": "b02f3592-79f3-4106-9e35-61e299f8dac2",
   "metadata": {
    "ExecuteTime": {
     "end_time": "2024-03-19T11:35:14.752604100Z",
     "start_time": "2024-03-19T11:35:14.745085500Z"
    }
   },
   "outputs": [],
   "source": [
    "import csv\n",
    "import json\n",
    "\n",
    "\n",
    "def tid(tree_id: int) -> str:\n",
    "        \"\"\"\n",
    "        Generate TreeID from tree_id in database\n",
    "        Since postgresql serial is 4*8 bit, if id is too big,\n",
    "        alter table and return raw number.\n",
    "        TID format: 'T00A100000'\n",
    "            first letter, 'T'\n",
    "            2-4, digit or capital letter, 0-9 and A-Z\n",
    "            5-10, digit\n",
    "        Args:\n",
    "            tree_id: tree_id, postgresql serial number\n",
    "\n",
    "        Returns:\n",
    "            tid: str\n",
    "        \"\"\"\n",
    "        if tree_id is None:\n",
    "             print(tree_id)\n",
    "             return 'T00000000'\n",
    "        max_n = min(36 ** 3 * 100_000, 2 ** (8 * 4 - 1))\n",
    "        prefix = 'T'\n",
    "        n = 1_000_00\n",
    "        if tree_id >= max_n:\n",
    "            return 'T' + str(tree_id)\n",
    "        # 0-9 and A-Z\n",
    "        base = 26 + 10\n",
    "\n",
    "        a, b = divmod(tree_id, n)\n",
    "        letters = ''\n",
    "        while a > 0:\n",
    "            a, digit = divmod(a, base)\n",
    "            if digit < 10:\n",
    "                letters = str(digit) + letters\n",
    "            else:\n",
    "                letters = chr(ord('A') + (digit - 10)) + letters\n",
    "        return prefix + f'{letters:>03}' + f'{b:05d}'"
   ]
  },
  {
   "cell_type": "code",
   "execution_count": null,
   "id": "c6146e2a-39b4-4842-bda1-bef5914cc8e0",
   "metadata": {},
   "outputs": [],
   "source": [
    "# use sql to output table from treebase"
   ]
  },
  {
   "cell_type": "code",
   "execution_count": null,
   "id": "df4a3982-a41d-484f-bd47-038e24e05cc8",
   "metadata": {},
   "outputs": [],
   "source": [
    "\"\"\"psql\n",
    "copy (\n",
    "select to_json(t) from (\n",
    "select tmp.name_txt as root, trees.study_id, study.doi,\n",
    "\ttreefile.treefile_id, trees.tree_id, trees.tree_label, trees.tree_title, trees.tree_type, trees.tree_kind, \n",
    "\ttrees.root as root_id, trees.tree_quality, trees.upload_date, trees.tree_type_new\n",
    "from trees inner join study on study.study_id=trees.study_id\n",
    "inner join treefile on trees.tree_id=treefile.tree_id\n",
    "left join (select * from ncbi_names where name_class='scientific name') as tmp on trees.root=tmp.tax_id\n",
    ") as t)\n",
    "to 'r:\\\\test.json';\n",
    "\"\"\""
   ]
  },
  {
   "cell_type": "code",
   "execution_count": null,
   "id": "e4a567ac-9818-4c20-83de-be471ae532ea",
   "metadata": {},
   "outputs": [],
   "source": [
    "trees = list()\n",
    "with open('r:\\\\test.json', 'r') as _:\n",
    "    for line in _:\n",
    "        # handle escape character from psql\n",
    "        line2 = line.replace(r'\\\\', '\\\\')\n",
    "        x = json.loads(line2)\n",
    "        x['tree_file'] = tid(x['tree_id']) + '.nwk'\n",
    "        trees.append(x)\n",
    "print(trees[214:216])\n",
    "json.dump(trees, open('r:\\\\tree.json', 'w'), indent=True)\n",
    "print(len(trees))"
   ]
  },
  {
   "cell_type": "code",
   "execution_count": null,
   "id": "550a84c3-70fe-4d2e-80bc-151fcf835d0b",
   "metadata": {},
   "outputs": [],
   "source": [
    "\"\"\"psql\n",
    "copy (\n",
    "\tselect to_json(t) from \n",
    "\t  (select tree_id,newick from treefile) as t)\n",
    "to 'r:\\\\treefile.json';\n",
    "\"\"\""
   ]
  },
  {
   "cell_type": "code",
   "execution_count": null,
   "id": "3b5b5525-5a21-4b98-9cea-9c9334471e65",
   "metadata": {},
   "outputs": [],
   "source": [
    "treefile = list()\n",
    "with open('r://treefile.json', 'r') as _:\n",
    "    for line in _:\n",
    "        line2 = line.replace(r'\\\\', '\\\\')\n",
    "        t = json.loads(line2)\n",
    "        filename = tid(t['tree_id']) + '.nwk'\n",
    "        with open(f'r://out/{filename}', 'w') as out_:\n",
    "            out_.write(t['newick'])"
   ]
  },
  {
   "cell_type": "code",
   "execution_count": null,
   "id": "fe07fd1b-99b9-482e-89ba-b30fc1b03692",
   "metadata": {},
   "outputs": [],
   "source": [
    "\"\"\"psql\n",
    "copy (\n",
    "\tselect to_json(t) from (\n",
    "select array_agg(treefile.tree_id) as tree_files, study.* from study\n",
    "left join trees on study.study_id = trees.study_id\n",
    "left join treefile on trees.tree_id = treefile.tree_id\n",
    "group by study.study_id\n",
    "order by study.study_id) as t)\n",
    "to 'r:\\\\paper.raw';\n",
    "\"\"\""
   ]
  },
  {
   "cell_type": "code",
   "execution_count": 4,
   "id": "f721095d-195a-4399-9bc8-d44761c2d004",
   "metadata": {
    "ExecuteTime": {
     "end_time": "2024-03-19T11:35:21.774877500Z",
     "start_time": "2024-03-19T11:35:21.609796500Z"
    }
   },
   "outputs": [
    {
     "name": "stdout",
     "output_type": "stream",
     "text": [
      "None\n",
      "None\n",
      "None\n",
      "None\n",
      "None\n",
      "None\n",
      "None\n",
      "None\n",
      "None\n",
      "None\n",
      "None\n",
      "None\n",
      "None\n",
      "None\n",
      "None\n",
      "None\n",
      "None\n",
      "None\n",
      "None\n",
      "None\n",
      "None\n",
      "None\n",
      "None\n",
      "None\n",
      "None\n",
      "None\n",
      "None\n",
      "None\n",
      "None\n",
      "None\n",
      "None\n",
      "None\n",
      "None\n",
      "None\n",
      "None\n",
      "None\n",
      "None\n",
      "None\n",
      "None\n",
      "None\n",
      "None\n",
      "None\n",
      "None\n",
      "None\n",
      "None\n",
      "None\n",
      "None\n",
      "None\n",
      "None\n",
      "None\n",
      "None\n",
      "None\n",
      "None\n",
      "None\n",
      "None\n",
      "None\n",
      "None\n",
      "None\n",
      "None\n",
      "None\n",
      "None\n",
      "None\n",
      "None\n",
      "None\n",
      "None\n",
      "None\n",
      "None\n",
      "None\n",
      "None\n",
      "None\n",
      "None\n",
      "None\n",
      "None\n",
      "None\n",
      "None\n",
      "None\n",
      "None\n",
      "None\n",
      "None\n",
      "None\n",
      "None\n",
      "None\n",
      "None\n",
      "None\n",
      "None\n",
      "None\n",
      "None\n",
      "None\n",
      "None\n",
      "None\n",
      "None\n",
      "None\n",
      "None\n",
      "None\n",
      "6300\n"
     ]
    }
   ],
   "source": [
    "paper = list()\n",
    "with open('r://paper.raw', 'r') as _:\n",
    "    for line in _:\n",
    "        line2 = line.replace(r'\\\\', '\\\\')\n",
    "        t = json.loads(line2)\n",
    "        t['tree_files'] = [tid(tf)+'.nwk' for tf in t['tree_files']]\n",
    "        paper.append(t)\n",
    "print(len(paper))        \n",
    "                           \n",
    "\n"
   ]
  },
  {
   "cell_type": "code",
   "execution_count": 5,
   "id": "a9772f23-8717-4eb5-8718-ce04050932b1",
   "metadata": {
    "ExecuteTime": {
     "end_time": "2024-03-19T11:35:35.314171600Z",
     "start_time": "2024-03-19T11:35:35.093871Z"
    }
   },
   "outputs": [],
   "source": [
    "with open(f'r://paper.json', 'w') as out_:\n",
    "    json.dump(paper, out_, indent=True)"
   ]
  },
  {
   "cell_type": "code",
   "execution_count": null,
   "id": "8c350aad-cd8f-4c13-a019-3837c7ad4851",
   "metadata": {},
   "outputs": [],
   "source": [
    "\"\"\"\n",
    "1. import to database\n",
    "2. output merged final json (paper.json,tree.json) and newick treefiles\n",
    "3. statistics\n",
    "\"\"\"\n"
   ]
  },
  {
   "cell_type": "code",
   "execution_count": null,
   "id": "d62a44747bfea1fa",
   "metadata": {
    "collapsed": false
   },
   "outputs": [],
   "source": [
    "with open(f'r://paper.json') as _:\n",
    "    data2 = json.load(_)\n",
    "header = data2.pop()\n",
    "header['tree_files'] = len(header['tree_files'])\n",
    "print(header)\n",
    "with open(r'r://for_draw.csv', 'w', newline='') as out:\n",
    "    writer = csv.DictWriter(out, fieldnames=list(header.keys()))\n",
    "    writer.writeheader()\n",
    "    writer.writerow(header)\n",
    "    for record in data2:\n",
    "        record['tree_files'] = len(record['tree_files'])\n",
    "        writer.writerow(record)\n"
   ]
  },
  {
   "cell_type": "code",
   "execution_count": null,
   "id": "8c29fc2a7c74fdf3",
   "metadata": {
    "collapsed": false
   },
   "outputs": [],
   "source": []
  }
 ],
 "metadata": {
  "kernelspec": {
   "display_name": "Python 3 (ipykernel)",
   "language": "python",
   "name": "python3"
  },
  "language_info": {
   "codemirror_mode": {
    "name": "ipython",
    "version": 3
   },
   "file_extension": ".py",
   "mimetype": "text/x-python",
   "name": "python",
   "nbconvert_exporter": "python",
   "pygments_lexer": "ipython3",
   "version": "3.11.7"
  }
 },
 "nbformat": 4,
 "nbformat_minor": 5
}
